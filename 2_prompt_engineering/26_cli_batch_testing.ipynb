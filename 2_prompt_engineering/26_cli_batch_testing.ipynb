{
 "cells": [
  {
   "cell_type": "code",
   "execution_count": null,
   "id": "a97ab74f",
   "metadata": {},
   "outputs": [],
   "source": [
    "import nest_asyncio\n",
    "nest_asyncio.apply()\n",
    "\n",
    "# import asyncio\n",
    "import time\n",
    "from openai import OpenAI\n",
    "import ipywidgets as widgets\n",
    "from IPython.display import display, Markdown\n",
    "from dotenv import load_dotenv\n",
    "\n",
    "load_dotenv()\n",
    "client = OpenAI()  \n"
   ]
  },
  {
   "cell_type": "code",
   "execution_count": 2,
   "id": "f9834c0e",
   "metadata": {},
   "outputs": [],
   "source": [
    "import ipywidgets as widgets \n",
    "from IPython.display import display, Markdown"
   ]
  },
  {
   "cell_type": "code",
   "execution_count": null,
   "id": "dd0f7e82",
   "metadata": {},
   "outputs": [],
   "source": [
    "sample_text = (\n",
    "    \"The new product launch exceeded expectations, with sales reaching 150% of the Q1 target. Key contributing factors included the revamped marketing strategy and strong positive customer reviews. However, supply chain bottlenecks led to minor delays for 10% of orders, an issue now being addressed by diversifying suppliers. The financial outlook for Q2 remains robust.\"\n",
    ")\n",
    "\n",
    "prompts = {\n",
    "    \"Summarizer_Simple\": \"Summarize this text: {text_input}\",\n",
    "    \"Summarizer_Executive\": (\n",
    "        \"You are an expert summarizer for busy executives. Summarize this for quick understanding, focusing on key decisions and outcomes: {text_input}\"\n",
    "    )\n",
    "}\n"
   ]
  },
  {
   "cell_type": "code",
   "execution_count": 4,
   "id": "710ddb11",
   "metadata": {},
   "outputs": [],
   "source": [
    "if \"prompt_selector\" not in globals():\n",
    "    prompt_selector = widgets.Dropdown(options=[\"Summarizer_Simple\", \"Summarizer_Executive\"], description='Prompt:')\n",
    "    temp_slider = widgets.FloatSlider(value=0.5, min=0.0, max=1.0, step=0.1, description='Temp:')\n",
    "    run_button = widgets.Button(description=\"Run Prompt\")\n",
    "    output_area = widgets.Output()"
   ]
  },
  {
   "cell_type": "code",
   "execution_count": 5,
   "id": "02501470",
   "metadata": {},
   "outputs": [],
   "source": [
    "def run_selected_prompt_sync(b):\n",
    "    output_area.clear_output(wait=True)\n",
    "    selected_prompt_name = prompt_selector.value\n",
    "    temperature = temp_slider.value\n",
    "    template = prompts[selected_prompt_name]\n",
    "    prompt = template.format(text_input=sample_text)\n",
    "\n",
    "    # Use append_display_data inside output_area context\n",
    "    with output_area:\n",
    "        output_area.append_display_data(Markdown(f\"**Running '{selected_prompt_name}' with temp={temperature}...**\"))\n",
    "        try:\n",
    "            start = time.perf_counter()\n",
    "            response = client.chat.completions.create(\n",
    "                model=\"gpt-4o-mini\",\n",
    "                messages=[{\"role\": \"user\", \"content\": prompt}],\n",
    "                temperature=temperature,\n",
    "            )\n",
    "            latency = time.perf_counter() - start\n",
    "            content = response.choices[0].message.content\n",
    "\n",
    "            output_area.append_display_data(Markdown(f\"**Response:**\\n```\\n{content}\\n```\"))\n",
    "            output_area.append_display_data(Markdown(f\"*Latency: {latency:.2f}s, Tokens: {response.usage.total_tokens}*\"))\n",
    "\n",
    "        except Exception as e:\n",
    "            output_area.append_display_data(Markdown(f\"**Error:** {e}\"))\n"
   ]
  },
  {
   "cell_type": "code",
   "execution_count": 6,
   "id": "ac375be7",
   "metadata": {},
   "outputs": [
    {
     "data": {
      "application/vnd.jupyter.widget-view+json": {
       "model_id": "2ee44ae5a9514fcaba87dc4c44d0e595",
       "version_major": 2,
       "version_minor": 0
      },
      "text/plain": [
       "Dropdown(description='Prompt:', options=('Summarizer_Simple', 'Summarizer_Executive'), value='Summarizer_Simpl…"
      ]
     },
     "metadata": {},
     "output_type": "display_data"
    },
    {
     "data": {
      "application/vnd.jupyter.widget-view+json": {
       "model_id": "f7257446e8a3472ab3e90861399439ff",
       "version_major": 2,
       "version_minor": 0
      },
      "text/plain": [
       "FloatSlider(value=0.5, description='Temp:', max=1.0)"
      ]
     },
     "metadata": {},
     "output_type": "display_data"
    },
    {
     "data": {
      "application/vnd.jupyter.widget-view+json": {
       "model_id": "04149a223694429d87215dc52b697146",
       "version_major": 2,
       "version_minor": 0
      },
      "text/plain": [
       "Button(description='Run Prompt', style=ButtonStyle())"
      ]
     },
     "metadata": {},
     "output_type": "display_data"
    },
    {
     "data": {
      "application/vnd.jupyter.widget-view+json": {
       "model_id": "72aead1f6cbf4a91b0d9aca6d11f9fa5",
       "version_major": 2,
       "version_minor": 0
      },
      "text/plain": [
       "Output()"
      ]
     },
     "metadata": {},
     "output_type": "display_data"
    }
   ],
   "source": [
    "# Unbind previous click handlers to avoid duplicate executions\n",
    "run_button._click_handlers.callbacks = []\n",
    "\n",
    "# Re-bind the button to the handler\n",
    "run_button.on_click(run_selected_prompt_sync)\n",
    "\n",
    "# Display widgets\n",
    "display(prompt_selector, temp_slider, run_button, output_area)\n"
   ]
  }
 ],
 "metadata": {
  "kernelspec": {
   "display_name": "chapter 1 tasks code",
   "language": "python",
   "name": "python3"
  },
  "language_info": {
   "codemirror_mode": {
    "name": "ipython",
    "version": 3
   },
   "file_extension": ".py",
   "mimetype": "text/x-python",
   "name": "python",
   "nbconvert_exporter": "python",
   "pygments_lexer": "ipython3",
   "version": "3.10.8"
  }
 },
 "nbformat": 4,
 "nbformat_minor": 5
}
